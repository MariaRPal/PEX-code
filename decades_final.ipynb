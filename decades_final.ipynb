{
 "cells": [
  {
   "cell_type": "code",
   "execution_count": 1,
   "metadata": {},
   "outputs": [],
   "source": [
    "import matplotlib.pyplot as plt\n",
    "import pandas as pd\n",
    "import numpy as np"
   ]
  },
  {
   "cell_type": "markdown",
   "metadata": {},
   "source": [
    "### Listas de las fechas"
   ]
  },
  {
   "cell_type": "code",
   "execution_count": null,
   "metadata": {},
   "outputs": [],
   "source": [
    "dates_1 = pd.date_range(start='1993-01-01', end='2002-12-31')\n",
    "dates_2 = pd.date_range(start='2003-01-01', end='2012-12-31')\n",
    "dates_3 = pd.date_range(start='2013-01-01', end='2022-12-31')\n",
    "\n",
    "# Convert to list of strings in the format YYYY-MM-DD\n",
    "date_strings_1 = dates_1.strftime('%Y-%m-%d').tolist()\n",
    "date_strings_2 = dates_2.strftime('%Y-%m-%d').tolist()\n",
    "date_strings_3 = dates_3.strftime('%Y-%m-%d').tolist()\n",
    "\n",
    "date_strings = [date_strings_1, date_strings_2, date_strings_3]"
   ]
  },
  {
   "cell_type": "markdown",
   "metadata": {},
   "source": [
    "## Promedio de las anomalías de cada década"
   ]
  },
  {
   "cell_type": "code",
   "execution_count": null,
   "metadata": {},
   "outputs": [],
   "source": [
    "ugosa_sum_1 = np.zeros((len(ds.latitude), len(ds.longitude)))\n",
    "vgosa_sum_1 = np.zeros((len(ds.latitude), len(ds.longitude)))\n",
    "\n",
    "ugosa_sum_2 = np.zeros((len(ds.latitude), len(ds.longitude)))\n",
    "vgosa_sum_2 = np.zeros((len(ds.latitude), len(ds.longitude)))\n",
    "\n",
    "ugosa_sum_3 = np.zeros((len(ds.latitude), len(ds.longitude)))\n",
    "vgosa_sum_3 = np.zeros((len(ds.latitude), len(ds.longitude)))\n",
    "\n",
    "ugosa_sum =[ugosa_sum_1, ugosa_sum_2, ugosa_sum_3]\n",
    "vgosa_sum =[vgosa_sum_1, vgosa_sum_2, vgosa_sum_3]\n",
    "\n",
    "for k in range(len(date_strings)):\n",
    "    for i in range(len(date_strings[k])):\n",
    "        ds_sel = ds.sel(time=date_strings[k][i])\n",
    "\n",
    "        ugosa = ds_sel['ugosa'].values\n",
    "        vgosa = ds_sel['vgosa'].values\n",
    "\n",
    "        ugosa_sum[k] += ugosa\n",
    "        vgosa_sum[k] += vgosa\n",
    "\n",
    "    \n",
    "    ugosa_mean = ugosa_sum[k] / len(date_strings[k])\n",
    "    vgosa_mean = vgosa_sum[k] / len(date_strings[k])\n",
    "    np.save('ugosa_mean_'+str(k+1)+'.npy', ugosa_mean)\n",
    "    np.save('vgosa_mean_'+str(k+1)+'.npy', vgosa_mean)\n",
    "    print('ugosa_mean_'+str(k+1)+'.npy', 'vgosa_mean_'+str(k+1)+'.npy', 'saved')\n",
    "\n",
    "\n",
    "ugosa_mean_1 = np.load('ugosa_mean_1.npy')\n",
    "ugosa_mean_2 = np.load('ugosa_mean_2.npy')\n",
    "ugosa_mean_3 = np.load('ugosa_mean_3.npy')\n",
    "\n",
    "vgosa_mean_1 = np.load('vgosa_mean_1.npy')\n",
    "vgosa_mean_2 = np.load('vgosa_mean_2.npy')\n",
    "vgosa_mean_3 = np.load('vgosa_mean_3.npy')\n",
    "\n",
    "ugosa_mean = [ugosa_mean_1, ugosa_mean_2, ugosa_mean_3]\n",
    "vgosa_mean = [vgosa_mean_1, vgosa_mean_2, vgosa_mean_3]"
   ]
  },
  {
   "cell_type": "markdown",
   "metadata": {},
   "source": [
    "### Matrices vacías para EKE, MKE y TKE"
   ]
  },
  {
   "cell_type": "code",
   "execution_count": null,
   "metadata": {},
   "outputs": [],
   "source": [
    "#EKE\n",
    "EKE_sum_1 = np.zeros((len(ds.latitude), len(ds.longitude)))\n",
    "EKE_sum_2 = np.zeros((len(ds.latitude), len(ds.longitude)))\n",
    "EKE_sum_3 = np.zeros((len(ds.latitude), len(ds.longitude)))\n",
    "\n",
    "EKE_sum = [EKE_sum_1, EKE_sum_2, EKE_sum_3]\n",
    "\n",
    "\n",
    "#MKE\n",
    "ugos_sum_1 = np.zeros((len(ds.latitude), len(ds.longitude)))\n",
    "vgos_sum_1 = np.zeros((len(ds.latitude), len(ds.longitude)))\n",
    "\n",
    "ugos_sum_2 = np.zeros((len(ds.latitude), len(ds.longitude)))\n",
    "vgos_sum_2 = np.zeros((len(ds.latitude), len(ds.longitude)))\n",
    "\n",
    "ugos_sum_3 = np.zeros((len(ds.latitude), len(ds.longitude)))\n",
    "vgos_sum_3 = np.zeros((len(ds.latitude), len(ds.longitude)))\n",
    "\n",
    "ugos_sum = [ugos_sum_1, ugos_sum_2, ugos_sum_3]\n",
    "vgos_sum = [vgos_sum_1, vgos_sum_2, vgos_sum_3]\n",
    "\n",
    "#TKE\n",
    "TKE_sum_1 = np.zeros((len(ds.latitude), len(ds.longitude)))\n",
    "TKE_sum_2 = np.zeros((len(ds.latitude), len(ds.longitude)))\n",
    "TKE_sum_3 = np.zeros((len(ds.latitude), len(ds.longitude)))\n",
    "\n",
    "TKE_sum = [TKE_sum_1, TKE_sum_2, TKE_sum_3]"
   ]
  },
  {
   "cell_type": "code",
   "execution_count": null,
   "metadata": {},
   "outputs": [],
   "source": [
    "ρ = 1025\n",
    "for k in range(len(EKE_sum)):\n",
    "    for i in range(len(date_strings[k])):\n",
    "        ds_sel = ds.sel(time=date_strings[k][i])\n",
    "\n",
    "        #EKE\n",
    "        ugosa = ds_sel['ugosa'].values - ugosa_mean[k]\n",
    "        vgosa = ds_sel['vgosa'].values - vgosa_mean[k]\n",
    "\n",
    "        EKE = 0.5 * ρ * ((ugosa**2) + (vgosa**2))\n",
    "        EKE_sum[k] += EKE\n",
    "\n",
    "        #MKE\n",
    "        ugos = ds_sel['ugos'].values\n",
    "        vgos = ds_sel['vgos'].values\n",
    "\n",
    "        ugos_sum[k] += ugos\n",
    "        vgos_sum[k] += vgos\n",
    "\n",
    "        #TKE\n",
    "        TKE = 0.5 * ρ * ((ugos**2) + (vgos**2))\n",
    "        TKE_sum[k] += TKE\n",
    "    \n",
    "    mean_EKE = EKE_sum[k] / len(date_strings[k])\n",
    "\n",
    "    ugos_mean = ugos_sum[k] / len(date_strings[k])\n",
    "    vgos_mean = vgos_sum[k] / len(date_strings[k])\n",
    "    MKE = 0.5 * ρ * ((ugos_mean**2) + (vgos_mean**2))\n",
    "\n",
    "    mean_TKE = TKE_sum[k] / len(date_strings[k])\n",
    "\n",
    "    np.save('mean_EKE_'+str(k+1)+'.npy', mean_EKE)\n",
    "    np.save('MKE_'+str(k+1)+'.npy', MKE)\n",
    "    np.save('mean_TKE_'+str(k+1)+'.npy', mean_TKE)\n",
    "    print('mean_EKE_'+str(k+1)+'.npy', 'MKE_'+str(k+1)+'.npy', 'mean_TKE_'+str(k+1)+'.npy', 'saved')\n",
    "\n",
    "\n",
    "mean_EKE_1 = np.load('mean_EKE_1.npy')\n",
    "mean_EKE_2 = np.load('mean_EKE_2.npy')\n",
    "mean_EKE_3 = np.load('mean_EKE_3.npy')\n",
    "\n",
    "MKE_1 = np.load('MKE_1.npy')\n",
    "MKE_2 = np.load('MKE_2.npy')\n",
    "MKE_3 = np.load('MKE_3.npy')\n",
    "\n",
    "mean_TKE_1 = np.load('mean_TKE_1.npy')\n",
    "mean_TKE_2 = np.load('mean_TKE_2.npy')\n",
    "mean_TKE_3 = np.load('mean_TKE_3.npy')\n",
    "\n",
    "mean_EKE = [mean_EKE_1, mean_EKE_2, mean_EKE_3]\n",
    "MKE = [MKE_1, MKE_2, MKE_3]\n",
    "mean_TKE = [mean_TKE_1, mean_TKE_2, mean_TKE_3]"
   ]
  },
  {
   "cell_type": "markdown",
   "metadata": {},
   "source": [
    "## Cálculo %"
   ]
  },
  {
   "cell_type": "code",
   "execution_count": 2,
   "metadata": {},
   "outputs": [],
   "source": [
    "decades = ['1993-2002', '2003-2012', '2013-2022']\n",
    "\n",
    "\n",
    "mean_EKE_1 = np.load('mean_EKE_1.npy')\n",
    "mean_EKE_2 = np.load('mean_EKE_2.npy')\n",
    "mean_EKE_3 = np.load('mean_EKE_3.npy')\n",
    "\n",
    "#test son las nuevas\n",
    "MKE_1 = np.load('MKE_1_test.npy')\n",
    "MKE_2 = np.load('MKE_2_test.npy')\n",
    "MKE_3 = np.load('MKE_3_test.npy')\n",
    "\n",
    "mean_TKE_1 = np.load('mean_TKE_1_test.npy')\n",
    "mean_TKE_2 = np.load('mean_TKE_2_test.npy')\n",
    "mean_TKE_3 = np.load('mean_TKE_3_test.npy')\n",
    "\n",
    "mean_EKE = [mean_EKE_1, mean_EKE_2, mean_EKE_3]\n",
    "MKE = [MKE_1, MKE_2, MKE_3]\n",
    "mean_TKE = [mean_TKE_1, mean_TKE_2, mean_TKE_3]"
   ]
  },
  {
   "cell_type": "code",
   "execution_count": 3,
   "metadata": {},
   "outputs": [],
   "source": [
    "mean_EKE_total = np.load('mean_EKE_final.npy')\n",
    "MKE_total = np.load('MKE_final.npy')\n",
    "mean_TKE_total = np.load('mean_TKE_final.npy')"
   ]
  },
  {
   "cell_type": "code",
   "execution_count": 4,
   "metadata": {},
   "outputs": [
    {
     "name": "stdout",
     "output_type": "stream",
     "text": [
      "mean_EKE_MEAN: [206.06108187 204.98135901 210.9484223  213.04486612]\n",
      "MKE_MEAN: [68.64007343 69.60681223 72.40942769 69.25858243]\n",
      "mean_TKE_MEAN: [274.45060502 274.2952386  282.41958794 281.71516224]\n"
     ]
    }
   ],
   "source": [
    "mean_EKE_MEAN = np.zeros(4)\n",
    "mean_TKE_MEAN = np.zeros(4)\n",
    "MKE_MEAN = np.zeros(4)\n",
    "\n",
    "for k in range(4):\n",
    "    if k == 3:\n",
    "        mean_EKE_MEAN[k] = np.nanmean(mean_EKE_total)\n",
    "        MKE_MEAN[k] = np.nanmean(MKE_total)\n",
    "        mean_TKE_MEAN[k] = np.nanmean(mean_TKE_total)\n",
    "    else:\n",
    "        mean_EKE_MEAN[k] = np.nanmean(mean_EKE[k])\n",
    "        MKE_MEAN[k] = np.nanmean(MKE[k])\n",
    "        mean_TKE_MEAN[k] = np.nanmean(mean_TKE[k])\n",
    "\n",
    "mean_EKE_MEAN = mean_EKE_MEAN/1025 *10**4\n",
    "mean_TKE_MEAN = mean_TKE_MEAN/1025 *10**4\n",
    "MKE_MEAN = MKE_MEAN/1025 *10**4\n",
    "\n",
    "print('mean_EKE_MEAN:', mean_EKE_MEAN)\n",
    "print('MKE_MEAN:', MKE_MEAN)\n",
    "print('mean_TKE_MEAN:', mean_TKE_MEAN)  "
   ]
  },
  {
   "cell_type": "code",
   "execution_count": 5,
   "metadata": {},
   "outputs": [
    {
     "name": "stdout",
     "output_type": "stream",
     "text": [
      "MKE_TKE_ratio: [25.00999166 25.37660245 25.63895381 24.58461301]\n",
      "EKE_TKE_ratio: [75.08129991 74.7301922  74.69326892 75.62421008]\n",
      "MKE_EKE_ratio: [33.31054695 33.95763037 34.32565501 32.50891875]\n"
     ]
    }
   ],
   "source": [
    "MKE_TKE_ratio = MKE_MEAN / mean_TKE_MEAN\n",
    "EKE_TKE_ratio = mean_EKE_MEAN / mean_TKE_MEAN\n",
    "MKE_EKE_ratio = MKE_MEAN / mean_EKE_MEAN\n",
    "\n",
    "print('MKE_TKE_ratio:', MKE_TKE_ratio*100)\n",
    "print('EKE_TKE_ratio:', EKE_TKE_ratio*100)\n",
    "print('MKE_EKE_ratio:', MKE_EKE_ratio*100)"
   ]
  },
  {
   "cell_type": "code",
   "execution_count": 6,
   "metadata": {},
   "outputs": [
    {
     "name": "stdout",
     "output_type": "stream",
     "text": [
      "                  0           1           2           3\n",
      "Decade    1993-2002   2003-2012   2013-2022   1993-2022\n",
      "MKE/TKE   25.009992   25.376602   25.638954   24.584613\n",
      "EKE/TKE     75.0813   74.730192   74.693269    75.62421\n",
      "sum      100.091292  100.106795  100.332223  100.208823\n"
     ]
    }
   ],
   "source": [
    "# create a dataframe\n",
    "import pandas as pd\n",
    "data = {'Decade': decades +['1993-2022'],\n",
    "        'MKE/TKE': MKE_TKE_ratio*100,\n",
    "        'EKE/TKE': EKE_TKE_ratio*100,\n",
    "        'sum': MKE_TKE_ratio*100 + EKE_TKE_ratio*100}\n",
    "\n",
    "df = pd.DataFrame(data).transpose()\n",
    "print(df)"
   ]
  },
  {
   "cell_type": "code",
   "execution_count": 7,
   "metadata": {},
   "outputs": [
    {
     "data": {
      "image/png": "[encoded data removed]",
      "text/plain": [
       "<Figure size 640x480 with 1 Axes>"
      ]
     },
     "metadata": {},
     "output_type": "display_data"
    }
   ],
   "source": [
    "# plot in a stacked bar chart\n",
    "years = (\n",
    "    \"1993-2002\",\n",
    "    \"2003-2012\",\n",
    "    \"2013-2023\",\n",
    "    \"1993-2023\",\n",
    ")\n",
    "means = {\n",
    "    \"EKE\": EKE_TKE_ratio*100,\n",
    "    \"MKE\": MKE_TKE_ratio*100,\n",
    "}\n",
    "width = 0.5\n",
    "\n",
    "fig, ax = plt.subplots()\n",
    "bottom = np.zeros(4)\n",
    "\n",
    "for boolean, means in means.items():\n",
    "    p = ax.bar(years, means, width, label=boolean, bottom=bottom)\n",
    "    bottom += means\n",
    "\n",
    "ax.set_title(\"MKE and EKE as a percentage of TKE\")\n",
    "ax.legend(loc=\"upper right\")\n",
    "ax.set_ylabel(\"(%)\")\n",
    "ax.yaxis.grid(True)\n",
    "plt.show()"
   ]
  }
 ],
 "metadata": {
  "kernelspec": {
   "display_name": "Python 3",
   "language": "python",
   "name": "python3"
  },
  "language_info": {
   "codemirror_mode": {
    "name": "ipython",
    "version": 3
   },
   "file_extension": ".py",
   "mimetype": "text/x-python",
   "name": "python",
   "nbconvert_exporter": "python",
   "pygments_lexer": "ipython3",
   "version": "3.11.2"
  }
 },
 "nbformat": 4,
 "nbformat_minor": 2
}
